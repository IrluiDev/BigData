{
 "cells": [
  {
   "attachments": {},
   "cell_type": "markdown",
   "metadata": {},
   "source": [
    "Ejemplo de consumir datos de una API"
   ]
  },
  {
   "cell_type": "code",
   "execution_count": 2,
   "metadata": {},
   "outputs": [],
   "source": [
    "import requests\n",
    "from datetime import datetime"
   ]
  },
  {
   "cell_type": "code",
   "execution_count": 3,
   "metadata": {},
   "outputs": [],
   "source": [
    "formato_string = \"%Y-%m-%d\"\n",
    "url = 'https://rickandmortyapi.com/api/character/'\n",
    "def cargar_datos(url):\n",
    "    response = requests.get(url)\n",
    "    if response.status_code == 200:\n",
    "        datos = response.json()\n",
    "        return datos\n",
    "    else:\n",
    "        print(f\"Error al cargar la API. Código de estado: {response.status_code}\")\n",
    "        return None\n",
    "        \n"
   ]
  },
  {
   "cell_type": "code",
   "execution_count": 5,
   "metadata": {},
   "outputs": [],
   "source": [
    "def mostrar_personaje(get_json):\n",
    "    status = get_json['status']\n",
    "    name = get_json['name']\n",
    "    # print(status, \" - \",name)   \n",
    "    date = datetime.strptime(get_json['created'][0:10], formato_string).date().year\n",
    "    print('*Estatus: {} - Nombre: {}:\\n -Especie: {}\\n -Género: {}:\\n -Año: {}'.format(status,name,get_json['species'],get_json['gender'],str(date)))"
   ]
  },
  {
   "cell_type": "code",
   "execution_count": 7,
   "metadata": {},
   "outputs": [
    {
     "name": "stdout",
     "output_type": "stream",
     "text": [
      "*Estatus: Alive - Nombre: Rick Sanchez:\n",
      " -Especie: Human\n",
      " -Género: Male:\n",
      " -Año: 2017\n",
      "*Estatus: Alive - Nombre: Morty Smith:\n",
      " -Especie: Human\n",
      " -Género: Male:\n",
      " -Año: 2017\n",
      "*Estatus: Alive - Nombre: Summer Smith:\n",
      " -Especie: Human\n",
      " -Género: Female:\n",
      " -Año: 2017\n"
     ]
    }
   ],
   "source": [
    "for i in range(1, 4):\n",
    "    urls = url+'{}'.format(i)\n",
    "    personaje = cargar_datos(urls)\n",
    "    imprimir = mostrar_personaje(personaje)"
   ]
  }
 ],
 "metadata": {
  "kernelspec": {
   "display_name": "Python 3",
   "language": "python",
   "name": "python3"
  },
  "language_info": {
   "codemirror_mode": {
    "name": "ipython",
    "version": 3
   },
   "file_extension": ".py",
   "mimetype": "text/x-python",
   "name": "python",
   "nbconvert_exporter": "python",
   "pygments_lexer": "ipython3",
   "version": "3.11.2"
  },
  "orig_nbformat": 4,
  "vscode": {
   "interpreter": {
    "hash": "b9d36fcd74901fff8e0b7d2be02bae47162d345de75eb500f344b2b8d15b250c"
   }
  }
 },
 "nbformat": 4,
 "nbformat_minor": 2
}
